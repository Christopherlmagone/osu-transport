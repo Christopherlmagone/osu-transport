{
  "nbformat": 4,
  "nbformat_minor": 0,
  "metadata": {
    "colab": {
      "name": "Blackboard.ipynb",
      "provenance": [],
      "collapsed_sections": [],
      "include_colab_link": true
    },
    "kernelspec": {
      "name": "python3",
      "display_name": "Python 3"
    }
  },
  "cells": [
    {
      "cell_type": "markdown",
      "metadata": {
        "id": "view-in-github",
        "colab_type": "text"
      },
      "source": [
        "<a href=\"https://colab.research.google.com/github/ryanstwrt/osu-transport/blob/gh-pages/users/stewryan/Blackboard.ipynb\" target=\"_parent\"><img src=\"https://colab.research.google.com/assets/colab-badge.svg\" alt=\"Open In Colab\"/></a>"
      ]
    },
    {
      "cell_type": "markdown",
      "metadata": {
        "id": "d_npfQRwAEtS",
        "colab_type": "text"
      },
      "source": [
        "# Introduction to Blackboard System\n",
        "\n",
        "Blackboard systems are used to solve large multi-facited problems in a piece-wise incremental manor. The basic components to a blackboard system can be seen in the bulleted list below.\n",
        "\n",
        "*   Blackboard: Specialized space for agents to write their solutions to a problem too. This is typically stored in memory for quick access, but can also be written to a file for later use. The blackboard can contain specialized infrastructures which ease the reading and writing process for large problems.\n",
        "*   Controller Agent: Initiates the problem, tells other agents when to perform their actions, and when  their results can be added to the blackboard.\n",
        "*   Knowledge Agents: Contain specialized expertise in a problem and contribute to solving the problem at large with their specific piece of knowledge. For a multi-physics problem, this could be solving a set of equations with different methods or solving different sets of equation.\n",
        "\n",
        "Below is a basic blackboard system which involved three agents; a controller and two knowledge agents.\n",
        "The blackboard is used to create a HDF5 file, which the agents will write too, and keep track of the progress of the agents.\n",
        "The simple example has a controller and two agents (A and B) writing the square of values 0 to 9 to the database.\n",
        "Neither agent wants to copy what the other is dointn so they perform a simple check to ensure they are producing unique data. \n",
        "If so, they write the square of the given value to the database.\n",
        "Agent A is working in forward from 0 to 9, while Agent B is working in reverse. \n",
        "At the end, the database has 10 entries ranging from 0 to 9."
      ]
    },
    {
      "cell_type": "code",
      "metadata": {
        "id": "kv4eYDYRA_BH",
        "colab_type": "code",
        "outputId": "2aa40e69-b028-4758-8779-dc80361b732f",
        "colab": {
          "base_uri": "https://localhost:8080/",
          "height": 306
        }
      },
      "source": [
        "pip install osbrain"
      ],
      "execution_count": 1,
      "outputs": [
        {
          "output_type": "stream",
          "text": [
            "Collecting osbrain\n",
            "  Downloading https://files.pythonhosted.org/packages/9d/b6/442c2dcd8e649870af6af7dc78ef3545f30565620c95e9a8af537ef86b47/osbrain-0.6.5.tar.gz\n",
            "Collecting Pyro4>=4.48\n",
            "\u001b[?25l  Downloading https://files.pythonhosted.org/packages/97/a2/70bf3d3aa6707eb264b9eb0e0899f3a90a3e062b2178da54e53ba4de2185/Pyro4-4.77-py2.py3-none-any.whl (90kB)\n",
            "\u001b[K     |████████████████████████████████| 92kB 5.8MB/s \n",
            "\u001b[?25hRequirement already satisfied: pyzmq>=15.2.0 in /usr/local/lib/python3.6/dist-packages (from osbrain) (17.0.0)\n",
            "Requirement already satisfied: dill!=0.2.7,>=0.2.0 in /usr/local/lib/python3.6/dist-packages (from osbrain) (0.3.1.1)\n",
            "Requirement already satisfied: cloudpickle>=0.4.0 in /usr/local/lib/python3.6/dist-packages (from osbrain) (1.2.2)\n",
            "Collecting serpent>=1.27\n",
            "  Downloading https://files.pythonhosted.org/packages/27/8a/873ccbe1d3d0f81d136686e4d0f38619ac1e718cff7d68f80e364dc52a8c/serpent-1.28-py2.py3-none-any.whl\n",
            "Building wheels for collected packages: osbrain\n",
            "  Building wheel for osbrain (setup.py) ... \u001b[?25l\u001b[?25hdone\n",
            "  Created wheel for osbrain: filename=osbrain-0.6.5-cp36-none-any.whl size=29223 sha256=b93f2bdee2bcd4619c82e9b92738b76a10005b470b4107918767faa6343cede6\n",
            "  Stored in directory: /root/.cache/pip/wheels/cf/e2/0d/a21f92241a5836630a3f773468e2ebe7181016aa23fd5bbbcb\n",
            "Successfully built osbrain\n",
            "Installing collected packages: serpent, Pyro4, osbrain\n",
            "Successfully installed Pyro4-4.77 osbrain-0.6.5 serpent-1.28\n"
          ],
          "name": "stdout"
        }
      ]
    },
    {
      "cell_type": "code",
      "metadata": {
        "id": "WrhCl3wXA_qW",
        "colab_type": "code",
        "colab": {}
      },
      "source": [
        "import osbrain\n",
        "from osbrain import run_nameserver\n",
        "from osbrain import run_agent\n",
        "from osbrain import Agent\n",
        "import time\n",
        "import tables as tb\n",
        "import os\n",
        "import numpy as np"
      ],
      "execution_count": 0,
      "outputs": []
    },
    {
      "cell_type": "code",
      "metadata": {
        "id": "UOK1lDz5_KQ2",
        "colab_type": "code",
        "colab": {}
      },
      "source": [
        "class Blackboard(object):\n",
        "  \"\"\"This class will be the blackboard from which knowledge agents write to and read from.\n",
        "  The state variable keeps track of who is writting to the blackboard, and how many problems have been solved.\"\"\"\n",
        "\n",
        "  def __init__(self):\n",
        "    self.agents = []\n",
        "    self.state = {\n",
        "        'problems': 0,\n",
        "        'contributions': [],\n",
        "    }\n",
        "    #Set up the HDF5 databsase\n",
        "    db = tb.open_file(\"blackboard_db\", \"w\")\n",
        "    db.close()\n",
        "\n",
        "  def add_agent(self, agent):\n",
        "    self.agents.append(agent)\n",
        "\n",
        "class Controller(object):\n",
        "  \"\"\"Controls the flow of work distribution in the problem\"\"\"\n",
        "\n",
        "  def __init__(self, blackboard):\n",
        "    self.blackboard = blackboard\n",
        "\n",
        "  def solve_problem(self):\n",
        "    i = 0\n",
        "    while self.blackboard.state['problems'] < 20:\n",
        "      for agent in self.blackboard.agents:\n",
        "        agent.contribute(i)\n",
        "      i+=1        \n",
        "    return self.blackboard.state['contributions']\n",
        "  \n",
        "\n",
        "class baseAgent(object):\n",
        "  \"\"\"Base agent to define __init__ and basic functions\"\"\"\n",
        "\n",
        "  def __init__(self, blackboard, name):\n",
        "    self.blackboard = blackboard\n",
        "    self.name = name\n",
        "    self.root = '/' + self.name\n",
        "    db = tb.open_file(\"blackboard_db\", \"a\")\n",
        "    db.create_group(db.root, self.name)    \n",
        "    db.close()\n",
        "\n",
        "  def contribute(self, i):\n",
        "    pass\n",
        "\n",
        "  def squared(self, x):\n",
        "    return x * x\n",
        "\n",
        "class AgentA(baseAgent):\n",
        "  \"\"\"Agent A will count from 0 to 10\"\"\"\n",
        "\n",
        "  def contribute(self, i):\n",
        "    doubled = self.squared(i)\n",
        "    with tb.open_file(\"blackboard_db\", \"a\") as db:\n",
        "      for node in db:\n",
        "        if 'Val_{}'.format(str(i)) in node:\n",
        "          self.blackboard.state['problems'] = 20\n",
        "      else:\n",
        "        db.create_array(self.root, 'Val_{}'.format(str(i)) , [doubled])\n",
        "    self.blackboard.state['problems'] += 1\n",
        "    self.blackboard.state['contributions'] += [self.__class__.__name__]\n",
        "\n",
        "class AgentB(baseAgent):\n",
        "  \"\"\"Agent B will count in reverse from 10 to 0\"\"\"\n",
        "\n",
        "  def contribute(self, i):\n",
        "    i = 9 - i\n",
        "    doubled = self.squared(i)\n",
        "    with tb.open_file(\"blackboard_db\", \"a\") as db:\n",
        "      for node in db:\n",
        "        if 'Val_{}'.format(str(i)) in node:\n",
        "          self.blackboard.state['problems'] = 20\n",
        "      else:\n",
        "        db.create_array(self.root, 'Val_{}'.format(str(i)) , [doubled])\n",
        "    self.blackboard.state['problems'] += 1\n",
        "    self.blackboard.state['contributions'] += [self.__class__.__name__]\n",
        "\n",
        "if __name__ == '__main__':\n",
        "  os.system('rm blackboard_db')\n",
        "  blackboard = Blackboard()\n",
        "  blackboard.add_agent(AgentA(blackboard, 'AgentA'))\n",
        "  blackboard.add_agent(AgentB(blackboard, 'AgentB'))\n",
        "  c = Controller(blackboard)\n",
        "  contributions = c.solve_problem()\n",
        "\n",
        "  h5db = tb.open_file('blackboard_db', 'r+')\n",
        "  print(h5db)\n",
        "  h5db.close()"
      ],
      "execution_count": 0,
      "outputs": []
    },
    {
      "cell_type": "markdown",
      "metadata": {
        "id": "2rxYjz_Q-1Rw",
        "colab_type": "text"
      },
      "source": [
        "# Multi-Agent Systems\n",
        "\n",
        "Multi-agent systems (MAS) focus on creating individual pieces of software (called agents) who perform some type of task independently of each other and of the user.\n",
        "Agents can communicate with each other via messages to influence what the agents are working on.\n",
        "A central theme for MAS is the autonomy of agents, where they can be designed to work cooperatively or competitively with other agents to accomplish goals.\n",
        "The module [osBrain](https://osbrain.readthedocs.io/en/stable/) is used to create agents in the below examples and a view interactions methods are shown.\n",
        "Some basic nomenclature is important to understand how MAS work in ```osBrain```.\n",
        "\n",
        "\n",
        "*   Agent: Main entity which runs independently of other agents. Its major responsibilities are to poll for incomming messages, process the message, perform some type of action bas on the message, and repeat.\n",
        "*   Proxy: Local objects which enables the user and other agents to access and communicate with a remote agent. Allows us to call methods or access attributes.\n",
        "\n"
      ]
    },
    {
      "cell_type": "code",
      "metadata": {
        "id": "9NfuUMFLAMVI",
        "colab_type": "code",
        "colab": {
          "base_uri": "https://localhost:8080/",
          "height": 136
        },
        "outputId": "4761918b-ed58-4050-c792-946ba3c3562d"
      },
      "source": [
        "if __name__ == '__main__':\n",
        "    # Create and server to house the multiple agents that will be created\n",
        "    # This is where the agents will reside and how they can be communicated with\n",
        "    ns = run_nameserver()\n",
        "    #The run_agent() method creates a proxy to an agent on a remote server, where name='' allows users to create an alias for that proxy\n",
        "    #Two methods to create an agent; the first creates an agent with no variables assigned to it, the second method creates a variable assiged proxy to an agent\n",
        "    run_agent(name='Exp1')\n",
        "    agent2 = run_agent(name='Exp2')\n",
        "\n",
        "    #Create a proxy to agent Exp1 to easily access it\n",
        "    agent1 = ns.proxy('Exp1')\n",
        "    #Log a message via the proxy Exp1 agent\n",
        "    agent1.log_info(' Hello World, I am tesing an agent')\n",
        "    agent2.log_info('Hello, I am a second agent')\n",
        "\n",
        "    #Determine what agents are alie in the server\n",
        "    for alias in ns.agents():\n",
        "      print(alias)\n",
        "    #shutdown the server as it is no longer needed, otherwise the agents will continue to run\n",
        "    ns.shutdown"
      ],
      "execution_count": 5,
      "outputs": [
        {
          "output_type": "stream",
          "text": [
            "Broadcast server running on 0.0.0.0:9091\n",
            "NS running on 127.0.0.1:17425 (127.0.0.1)\n",
            "URI = PYRO:Pyro.NameServer@127.0.0.1:17425\n",
            "INFO [2019-11-01 12:57:34.563948] (Exp1):  Hello World, I am tesing an agent\n",
            "INFO [2019-11-01 12:57:34.570184] (Exp2): Hello, I am a second agent\n",
            "Exp1\n",
            "Exp2\n"
          ],
          "name": "stdout"
        }
      ]
    },
    {
      "cell_type": "markdown",
      "metadata": {
        "id": "KOM5DyGK_Qtr",
        "colab_type": "text"
      },
      "source": [
        "# Multi-Agent Blackboard System (MABS)\n",
        "## Base Classes\n",
        "The following section defines our base classes for the multi-agent blackboard system.\n",
        "To reduce the number of communication lines, the controller agent from the previous sections has been incorporated with the blackboard class.\n",
        "The blackboard class will now act as both the repository for information obtained by the agents, and will determine if/when agents should perform their next action.\n",
        "\n",
        "Along with this, the agents no longer inheret from ```object```, but instead inheret from ```Agent```. \n",
        "```Agent``` is the base class for osBrain which creates a remote object that performs work independently of other agents.\n",
        "These classes are interacted with via a proxy class, which is seen in the ```__main__``` section, where ```ka_a``` is a proxy which allows us to interact with ```KA_A```."
      ]
    },
    {
      "cell_type": "code",
      "metadata": {
        "id": "QI6dPYHT-2Ck",
        "colab_type": "code",
        "colab": {}
      },
      "source": [
        "def log_message(self, message):\n",
        "  self.log_info('Recieved: Running Simulation {}'.format(message))\n",
        "\n",
        "def permission_granted(self, message):\n",
        "  return message\n",
        "\n",
        "class Blackboard(Agent):\n",
        "  def on_init(self):\n",
        "    self.bind('REP', alias='ask_permission', handler='ask_permission')\n",
        "    self.bind('PUSH', alias='run_opt_A', handler='run_opt')\n",
        "    self.agents = []\n",
        "    self.state = {\n",
        "        'problems': 0,\n",
        "        'contributions': [],\n",
        "    }\n",
        "    db = tb.open_file(\"blackboard_db\", \"w\")\n",
        "    db.close()\n",
        "\n",
        "  def solve_problem(self):\n",
        "    i = 0\n",
        "    while i < 2:\n",
        "      for agent in self.agents:\n",
        "        self.run_opt(agent, i)\n",
        "      i+=1        \n",
        "    return self.state['contributions']\n",
        "\n",
        "  def add_agent(self, agent):\n",
        "    self.agents.append(agent)\n",
        "\n",
        "  def ask_permission(self, message):\n",
        "    return message    \n",
        "  \n",
        "  def run_opt(self, agent, i):\n",
        "    name = agent.get_attr('name')\n",
        "    if name == 'ka_a':\n",
        "      self.send('run_opt_A', i)\n",
        "    elif name == 'ka_b':\n",
        "      self.send('run_opt_B', i)\n",
        "\n",
        "\n",
        "class baseKA(Agent):\n",
        "  \"\"\"Base agent to define __init__ and basic functions\"\"\"\n",
        "  \n",
        "  def on_init(self):\n",
        "    self.connect(self.bb_addr(self.bb_perm_alias), alias=self.bb_perm_alias)\n",
        "    # This connects to the blackboard. When the blackboard sends the agent a message, it will \n",
        "    # trigger the simulate method as the handler to solve the problem\n",
        "    self.connect(self.bb_addr(self.bb_opt_alias), alias=self.bb_opt_alias, handler='simulate')\n",
        "    self.root = '/{}'.format(self.name)\n",
        "    self.db_entry = []\n",
        "    self.doubled = 0\n",
        "    db = tb.open_file(\"blackboard_db\", \"a\")\n",
        "    db.create_group(db.root, self.name)    \n",
        "    db.close()\n",
        "\n",
        "  def simulate(self, i):\n",
        "    pass\n",
        "\n",
        "  def write_to_db(self):\n",
        "    pass\n",
        "\n",
        "  def squared(self, x):\n",
        "    return x * x"
      ],
      "execution_count": 0,
      "outputs": []
    },
    {
      "cell_type": "code",
      "metadata": {
        "id": "wuh7rQMlWGfY",
        "colab_type": "code",
        "outputId": "832dbeb3-4426-4018-dea9-03719a6d3fd3",
        "colab": {
          "base_uri": "https://localhost:8080/",
          "height": 204
        }
      },
      "source": [
        "class KA_A(baseKA):\n",
        "\n",
        "  def simulate(self, i):\n",
        "    time.sleep(2)\n",
        "    self.doubled = self.squared(i)\n",
        "    print(self.doubled)\n",
        "\n",
        "  def write_to_db(self):\n",
        "    print('at writing step')\n",
        "    with tb.open_file(\"blackboard_db\", \"a\") as db:\n",
        "      for node in db:\n",
        "        if 'Val_{}'.format(self.doubled) in node:\n",
        "          break\n",
        "      else:\n",
        "        db.create_array(self.root, 'Val_{}'.format(self.doubled), [self.doubled])\n",
        "  \n",
        "  def ask_permission_to_write(self):\n",
        "    can_send = False\n",
        "    i=0\n",
        "    while can_send != True:\n",
        "      if i > 3:\n",
        "        can_send = True\n",
        "      i += 1\n",
        "      self.send(self.bb_perm_alias, can_send)\n",
        "      can_send = self.recv(self.bb_perm_alias)\n",
        "      if can_send == True:\n",
        "        self.write_to_db()        \n",
        "       \n",
        "if __name__ == '__main__':\n",
        "  os.system('rm blackboard_db')\n",
        "  ns = run_nameserver()\n",
        "  bb = run_agent(name='blackboard', base=Blackboard)\n",
        "  ka_a = run_agent(name='ka_a', base=KA_A, attributes={'bb_addr':bb.addr,\n",
        "                                                       'bb_perm_alias':'ask_permission',\n",
        "                                                       'bb_opt_alias':'run_opt_A'})\n",
        "  bb.add_agent(ka_a)\n",
        "\n",
        "#  ka_a.ask_permission_to_write()\n",
        "\n",
        "  contributions = bb.solve_problem()\n",
        "  h5db = tb.open_file('blackboard_db', 'r+')\n",
        "  print(h5db)\n",
        "  h5db.close()\n",
        "  ns.shutdown()"
      ],
      "execution_count": 4,
      "outputs": [
        {
          "output_type": "stream",
          "text": [
            "Broadcast server running on 0.0.0.0:9091\n",
            "NS running on 127.0.0.1:16559 (127.0.0.1)\n",
            "URI = PYRO:Pyro.NameServer@127.0.0.1:16559\n",
            "blackboard_db (File) ''\n",
            "Last modif.: 'Fri Nov  1 12:35:25 2019'\n",
            "Object Tree: \n",
            "/ (RootGroup) ''\n",
            "/ka_a (Group) ''\n",
            "\n",
            "0\n",
            "1\n"
          ],
          "name": "stdout"
        }
      ]
    }
  ]
}